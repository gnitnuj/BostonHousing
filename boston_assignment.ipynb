{
 "cells": [
  {
   "cell_type": "markdown",
   "metadata": {},
   "source": [
    "## Boston Housing Assignment\n",
    "\n",
    "In this assignment you'll be using linear regression to estimate the cost of house in boston, using a well known dataset.\n",
    "\n",
    "Goals:\n",
    "+  Measure the performance of the model I created using $R^{2}$ and MSE\n",
    "> Learn how to use sklearn.metrics.r2_score and sklearn.metrics.mean_squared_error\n",
    "+  Implement a new model using L2 regularization\n",
    "> Use sklearn.linear_model.Ridge or sklearn.linear_model.Lasso \n",
    "+  Get the best model you can by optimizing the regularization parameter.   "
   ]
  },
  {
   "cell_type": "code",
   "execution_count": 10,
   "metadata": {
    "collapsed": false
   },
   "outputs": [],
   "source": [
    "from sklearn import datasets\n",
    "import pandas as pd\n",
    "from sklearn.preprocessing import StandardScaler\n",
    "from sklearn.cross_validation import train_test_split\n",
    "from sklearn.metrics import mean_squared_error\n",
    "from sklearn.metrics import r2_score\n",
    "from sklearn.linear_model import LinearRegression"
   ]
  },
  {
   "cell_type": "code",
   "execution_count": 11,
   "metadata": {
    "collapsed": false
   },
   "outputs": [
    {
     "name": "stdout",
     "output_type": "stream",
     "text": [
      "Boston House Prices dataset\n",
      "\n",
      "Notes\n",
      "------\n",
      "Data Set Characteristics:  \n",
      "\n",
      "    :Number of Instances: 506 \n",
      "\n",
      "    :Number of Attributes: 13 numeric/categorical predictive\n",
      "    \n",
      "    :Median Value (attribute 14) is usually the target\n",
      "\n",
      "    :Attribute Information (in order):\n",
      "        - CRIM     per capita crime rate by town\n",
      "        - ZN       proportion of residential land zoned for lots over 25,000 sq.ft.\n",
      "        - INDUS    proportion of non-retail business acres per town\n",
      "        - CHAS     Charles River dummy variable (= 1 if tract bounds river; 0 otherwise)\n",
      "        - NOX      nitric oxides concentration (parts per 10 million)\n",
      "        - RM       average number of rooms per dwelling\n",
      "        - AGE      proportion of owner-occupied units built prior to 1940\n",
      "        - DIS      weighted distances to five Boston employment centres\n",
      "        - RAD      index of accessibility to radial highways\n",
      "        - TAX      full-value property-tax rate per $10,000\n",
      "        - PTRATIO  pupil-teacher ratio by town\n",
      "        - B        1000(Bk - 0.63)^2 where Bk is the proportion of blacks by town\n",
      "        - LSTAT    % lower status of the population\n",
      "        - MEDV     Median value of owner-occupied homes in $1000's\n",
      "\n",
      "    :Missing Attribute Values: None\n",
      "\n",
      "    :Creator: Harrison, D. and Rubinfeld, D.L.\n",
      "\n",
      "This is a copy of UCI ML housing dataset.\n",
      "http://archive.ics.uci.edu/ml/datasets/Housing\n",
      "\n",
      "\n",
      "This dataset was taken from the StatLib library which is maintained at Carnegie Mellon University.\n",
      "\n",
      "The Boston house-price data of Harrison, D. and Rubinfeld, D.L. 'Hedonic\n",
      "prices and the demand for clean air', J. Environ. Economics & Management,\n",
      "vol.5, 81-102, 1978.   Used in Belsley, Kuh & Welsch, 'Regression diagnostics\n",
      "...', Wiley, 1980.   N.B. Various transformations are used in the table on\n",
      "pages 244-261 of the latter.\n",
      "\n",
      "The Boston house-price data has been used in many machine learning papers that address regression\n",
      "problems.   \n",
      "     \n",
      "**References**\n",
      "\n",
      "   - Belsley, Kuh & Welsch, 'Regression diagnostics: Identifying Influential Data and Sources of Collinearity', Wiley, 1980. 244-261.\n",
      "   - Quinlan,R. (1993). Combining Instance-Based and Model-Based Learning. In Proceedings on the Tenth International Conference of Machine Learning, 236-243, University of Massachusetts, Amherst. Morgan Kaufmann.\n",
      "   - many more! (see http://archive.ics.uci.edu/ml/datasets/Housing)\n",
      "\n"
     ]
    }
   ],
   "source": [
    "bean = datasets.load_boston()\n",
    "print bean.DESCR"
   ]
  },
  {
   "cell_type": "code",
   "execution_count": 12,
   "metadata": {
    "collapsed": false
   },
   "outputs": [],
   "source": [
    "def load_boston():\n",
    "    scaler = StandardScaler()\n",
    "    boston = datasets.load_boston()\n",
    "    X=boston.data\n",
    "    y=boston.target\n",
    "    X = scaler.fit_transform(X)\n",
    "    return train_test_split(X,y)\n",
    "    "
   ]
  },
  {
   "cell_type": "code",
   "execution_count": 13,
   "metadata": {
    "collapsed": false
   },
   "outputs": [],
   "source": [
    "X_train, X_test, y_train, y_test = load_boston()"
   ]
  },
  {
   "cell_type": "code",
   "execution_count": 14,
   "metadata": {
    "collapsed": false
   },
   "outputs": [
    {
     "data": {
      "text/plain": [
       "(379, 13)"
      ]
     },
     "execution_count": 14,
     "metadata": {},
     "output_type": "execute_result"
    }
   ],
   "source": [
    "X_train.shape"
   ]
  },
  {
   "cell_type": "markdown",
   "metadata": {},
   "source": [
    "### Fitting a Linear Regression\n",
    "\n",
    "It's as easy as instantiating a new regression object (line 1) and giving your regression object your training data\n",
    "(line 2) by calling .fit(independent variables, dependent variable)\n",
    "\n"
   ]
  },
  {
   "cell_type": "code",
   "execution_count": 15,
   "metadata": {
    "collapsed": false
   },
   "outputs": [
    {
     "data": {
      "text/plain": [
       "LinearRegression(copy_X=True, fit_intercept=True, n_jobs=1, normalize=False)"
      ]
     },
     "execution_count": 15,
     "metadata": {},
     "output_type": "execute_result"
    }
   ],
   "source": [
    "\n",
    "clf = LinearRegression()\n",
    "clf.fit(X_train, y_train)"
   ]
  },
  {
   "cell_type": "markdown",
   "metadata": {},
   "source": [
    "### Making a Prediction\n",
    "X_test is our holdout set of data.  We know the answer (y_test) but the computer does not.   \n",
    "\n",
    "Using the command below, I create a tuple for each observation, where I'm combining the real value (y_test) with\n",
    "the value our regressor predicts (clf.predict(X_test))\n",
    "\n",
    "Use a similiar format to get your r2 and mse metrics working.  Using the [scikit learn api](http://scikit-learn.org/stable/modules/model_evaluation.html) if you need help!"
   ]
  },
  {
   "cell_type": "code",
   "execution_count": 16,
   "metadata": {
    "collapsed": false
   },
   "outputs": [
    {
     "data": {
      "text/plain": [
       "[(23.0, 23.56321722671419),\n",
       " (17.100000000000001, 17.773377266990032),\n",
       " (11.699999999999999, 13.846027104007737),\n",
       " (16.199999999999999, 20.037557738625384),\n",
       " (10.800000000000001, 11.609878291184199),\n",
       " (23.199999999999999, 17.460049587041055),\n",
       " (8.8000000000000007, 6.9155451214172849),\n",
       " (13.1, 16.961099790171339),\n",
       " (18.600000000000001, 17.047267364618232),\n",
       " (16.5, 23.179522640651598),\n",
       " (22.0, 27.8978596448794),\n",
       " (24.800000000000001, 26.105101779814458),\n",
       " (15.0, 26.44494015216787),\n",
       " (28.699999999999999, 31.558406887049305),\n",
       " (31.600000000000001, 32.842620060030711),\n",
       " (18.399999999999999, 18.721656635439103),\n",
       " (13.5, 12.222423535291682),\n",
       " (16.5, 12.189678952892461),\n",
       " (13.6, 12.36500721460234),\n",
       " (29.0, 32.795663571268904),\n",
       " (26.600000000000001, 28.754019014819633),\n",
       " (20.600000000000001, 21.924315459044578),\n",
       " (20.699999999999999, 26.171914767654332),\n",
       " (25.0, 24.892082539194512),\n",
       " (20.199999999999999, 15.653267972240512),\n",
       " (24.100000000000001, 29.293807794788961),\n",
       " (19.5, 18.530497254636384),\n",
       " (16.399999999999999, 19.351624455487226),\n",
       " (18.199999999999999, 18.93504679002378),\n",
       " (36.100000000000001, 33.706157123103068),\n",
       " (15.6, 15.559635595896987),\n",
       " (17.800000000000001, 17.778001025816394),\n",
       " (9.6999999999999993, 9.61596816800132),\n",
       " (29.100000000000001, 31.843836708811708),\n",
       " (9.5999999999999996, 14.460800658119942),\n",
       " (24.399999999999999, 28.440965995156578),\n",
       " (15.199999999999999, 19.870593409561746),\n",
       " (20.100000000000001, 23.722925674293304),\n",
       " (23.300000000000001, 21.47868920379571),\n",
       " (12.699999999999999, 12.09676293183977),\n",
       " (19.600000000000001, 20.583990563861867),\n",
       " (13.4, 13.929043793184887),\n",
       " (25.300000000000001, 25.394150815837794),\n",
       " (22.899999999999999, 24.902406027660941),\n",
       " (23.800000000000001, 25.539071226558733),\n",
       " (14.6, 19.465483066724563),\n",
       " (23.100000000000001, 8.0907963804660792),\n",
       " (21.699999999999999, 23.064678558616922),\n",
       " (23.300000000000001, 28.724379879842928),\n",
       " (26.699999999999999, 34.279461342292464),\n",
       " (24.600000000000001, 29.010296477464681),\n",
       " (13.4, 15.431528800360011),\n",
       " (18.300000000000001, 20.614841015116902),\n",
       " (28.100000000000001, 25.565528882156311),\n",
       " (18.5, 18.820119346739027),\n",
       " (33.100000000000001, 35.736974912581765),\n",
       " (29.899999999999999, 31.861472809346168),\n",
       " (20.0, 17.466501875336704),\n",
       " (22.0, 21.310858175175564),\n",
       " (12.699999999999999, 11.568027682444164),\n",
       " (27.5, 11.02616679234478),\n",
       " (5.0, 9.3993746591201983),\n",
       " (23.899999999999999, 27.968778327463006),\n",
       " (20.399999999999999, 19.167732956314726),\n",
       " (25.100000000000001, 31.000426305174372),\n",
       " (32.399999999999999, 36.837578170137057),\n",
       " (12.1, 18.787497657160664),\n",
       " (18.199999999999999, 17.949714757496331),\n",
       " (19.300000000000001, 17.75717858878674),\n",
       " (27.5, 25.043460888918275),\n",
       " (23.5, 30.298475735071193),\n",
       " (23.399999999999999, 24.510097555044403),\n",
       " (21.699999999999999, 24.530903946883644),\n",
       " (17.5, 16.842534344737388),\n",
       " (27.899999999999999, 19.111294358387344),\n",
       " (12.6, 18.233355162871135),\n",
       " (30.800000000000001, 31.220519274898713),\n",
       " (19.399999999999999, 25.279747830268402),\n",
       " (15.4, 18.538368041033564),\n",
       " (33.399999999999999, 29.033288478102417),\n",
       " (30.100000000000001, 24.907594596301166),\n",
       " (11.800000000000001, 8.579963472807389),\n",
       " (20.699999999999999, 21.403616883700323),\n",
       " (37.299999999999997, 34.49252994204349),\n",
       " (50.0, 24.482925086186761),\n",
       " (20.0, 23.297307954933828),\n",
       " (19.800000000000001, 22.91326952965554),\n",
       " (20.300000000000001, 22.591891987921471),\n",
       " (34.899999999999999, 34.370380829995291),\n",
       " (10.5, 13.115144679699737),\n",
       " (31.600000000000001, 32.792492134693774),\n",
       " (23.0, 30.123238393338884),\n",
       " (7.5, 14.207073387611789),\n",
       " (14.5, 18.141813922145392),\n",
       " (22.600000000000001, 26.255628145000266),\n",
       " (19.899999999999999, 18.713157766928795),\n",
       " (14.300000000000001, 13.840998528569092),\n",
       " (19.899999999999999, 18.868114475952932),\n",
       " (29.399999999999999, 31.140713302169651),\n",
       " (13.1, 20.671474313466192),\n",
       " (10.9, 19.382106076710649),\n",
       " (13.1, 14.04299414106646),\n",
       " (50.0, 44.042427758773059),\n",
       " (31.0, 35.208030799840657),\n",
       " (19.399999999999999, 16.624692129907025),\n",
       " (25.199999999999999, 27.193041244628205),\n",
       " (14.4, 4.3775508273766164),\n",
       " (20.600000000000001, 21.188772255722014),\n",
       " (19.800000000000001, 22.461193445407694),\n",
       " (33.799999999999997, 35.448330121386782),\n",
       " (23.699999999999999, 27.337979829948313),\n",
       " (30.5, 30.971623539262151),\n",
       " (26.399999999999999, 22.094118666017113),\n",
       " (22.0, 26.037505636611172),\n",
       " (22.699999999999999, 24.467898065589178),\n",
       " (46.0, 41.854309398128912),\n",
       " (31.5, 33.293193828528509),\n",
       " (13.800000000000001, 15.883346989672493),\n",
       " (27.100000000000001, 19.945397136246363),\n",
       " (20.899999999999999, 21.660245672004965),\n",
       " (18.0, 19.206327902283238),\n",
       " (30.100000000000001, 29.745473005681085),\n",
       " (33.100000000000001, 33.513724187911734),\n",
       " (23.800000000000001, 26.276973033273304),\n",
       " (29.100000000000001, 30.402335796729062),\n",
       " (32.200000000000003, 32.451550795407293),\n",
       " (16.800000000000001, 20.596457988819271)]"
      ]
     },
     "execution_count": 16,
     "metadata": {},
     "output_type": "execute_result"
    }
   ],
   "source": [
    "zip (y_test, clf.predict(X_test))"
   ]
  },
  {
   "cell_type": "markdown",
   "metadata": {
    "collapsed": false
   },
   "source": [
    "## sklearn r2"
   ]
  },
  {
   "cell_type": "code",
   "execution_count": 20,
   "metadata": {
    "collapsed": true
   },
   "outputs": [],
   "source": [
    "from sklearn.metrics import r2_score"
   ]
  },
  {
   "cell_type": "markdown",
   "metadata": {},
   "source": [
    "sklearn.metrics.r2_score(y_true, y_pred, sample_weight=None, multioutput=None)"
   ]
  },
  {
   "cell_type": "code",
   "execution_count": 22,
   "metadata": {
    "collapsed": false
   },
   "outputs": [
    {
     "data": {
      "text/plain": [
       "0.64228572140532181"
      ]
     },
     "execution_count": 22,
     "metadata": {},
     "output_type": "execute_result"
    }
   ],
   "source": [
    "r2_score(y_test, clf.predict(X_test))"
   ]
  },
  {
   "cell_type": "code",
   "execution_count": 19,
   "metadata": {
    "collapsed": false
   },
   "outputs": [
    {
     "ename": "TypeError",
     "evalue": "mean_squared_error() takes at least 2 arguments (0 given)",
     "output_type": "error",
     "traceback": [
      "\u001b[0;31m---------------------------------------------------------------------------\u001b[0m",
      "\u001b[0;31mTypeError\u001b[0m                                 Traceback (most recent call last)",
      "\u001b[0;32m<ipython-input-19-e49fc9957d07>\u001b[0m in \u001b[0;36m<module>\u001b[0;34m()\u001b[0m\n\u001b[0;32m----> 1\u001b[0;31m \u001b[0mmean_squared_error\u001b[0m\u001b[0;34m(\u001b[0m\u001b[0;34m)\u001b[0m\u001b[0;34m\u001b[0m\u001b[0m\n\u001b[0m",
      "\u001b[0;31mTypeError\u001b[0m: mean_squared_error() takes at least 2 arguments (0 given)"
     ]
    }
   ],
   "source": [
    "mean_squared_error()"
   ]
  },
  {
   "cell_type": "code",
   "execution_count": null,
   "metadata": {
    "collapsed": true
   },
   "outputs": [],
   "source": []
  }
 ],
 "metadata": {
  "kernelspec": {
   "display_name": "Python 2",
   "language": "python",
   "name": "python2"
  },
  "language_info": {
   "codemirror_mode": {
    "name": "ipython",
    "version": 2
   },
   "file_extension": ".py",
   "mimetype": "text/x-python",
   "name": "python",
   "nbconvert_exporter": "python",
   "pygments_lexer": "ipython2",
   "version": "2.7.11"
  }
 },
 "nbformat": 4,
 "nbformat_minor": 0
}
